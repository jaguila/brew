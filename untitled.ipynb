{
 "metadata": {
  "name": ""
 },
 "nbformat": 3,
 "nbformat_minor": 0,
 "worksheets": [
  {
   "cells": [
    {
     "cell_type": "raw",
     "metadata": {},
     "source": [
      "Lecture 3 notes\n",
      "    charts - always say when non zero base\n",
      "    3d pie charts bad\n",
      "    avoid chartjunk\n",
      "    matplotlib default bad\n",
      "    tufte principles - minimalistic good\n",
      "       clear graphs\n",
      "    chart types\n",
      "        comparisons\n",
      "            bar graph\n",
      "            bar directions\n",
      "        trends over time\n",
      "            line graph (lines imply connections between x axis)\n",
      "                aspect ratio\n",
      "                    banking to 45 degrees\n",
      "                    average angle is 45 degrees\n",
      "                minimize color\n",
      "        correlations\n",
      "            scatterplots\n",
      "                dont overplot(addd opacity)\n",
      "        compositions\n",
      "            pie charts\n",
      "                less effective than a bar chart\n",
      "            stacked bar charts\n",
      "                fractions vs normal\n",
      "        distributions\n",
      "            histogram(bin size)grouping - plotting frequency of same variable\n",
      "                used for stable process\n",
      "                when looking for center of data\n",
      "                data set of related values\n",
      "                spread of data\n",
      "            density plot (smoothed out histograms)\n",
      "            heat maps\n",
      "            unimodel\n",
      "                box and whisker plot\n",
      "                    median\n",
      "                    quartiles\n",
      "                    max=min\n",
      "    color\n",
      "        ordinal data(numbers that have no qualitative meaning-rankings)\n",
      "            lightness or saturation\n",
      "        quantitative data\n",
      "            saturation\n",
      "            lightness\n",
      "            use this instead of hue becacuse of ordering harder and\n",
      "            perception harder\n",
      "            brewer scales rather than hue\n",
      "            "
     ]
    }
   ],
   "metadata": {}
  }
 ]
}