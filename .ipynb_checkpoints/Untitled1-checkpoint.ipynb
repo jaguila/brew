{
 "metadata": {
  "name": "",
  "signature": "sha256:508d38c5bed253c6d1f28bbf79a3862f6ee0fa51048dfdc99dd38bd978ab0784"
 },
 "nbformat": 3,
 "nbformat_minor": 0,
 "worksheets": [
  {
   "cells": [
    {
     "cell_type": "code",
     "collapsed": false,
     "input": [
      "from pattern import web\n",
      "import requests\n",
      "from fnmatch import fnmatch\n",
      "import matplotlib.pyplot as plt\n",
      "import pandas as pd\n",
      "import numpy as np\n",
      "from matplotlib import rcParams\n",
      "\n",
      "#these colors come from colorbrewer2.org. Each is an RGB triplet\n",
      "dark2_colors = [(0.10588235294117647, 0.6196078431372549, 0.4666666666666667),\n",
      "                (0.8509803921568627, 0.37254901960784315, 0.00784313725490196),\n",
      "                (0.4588235294117647, 0.4392156862745098, 0.7019607843137254),\n",
      "                (0.9058823529411765, 0.1607843137254902, 0.5411764705882353),\n",
      "                (0.4, 0.6509803921568628, 0.11764705882352941),\n",
      "                (0.9019607843137255, 0.6705882352941176, 0.00784313725490196),\n",
      "                (0.6509803921568628, 0.4627450980392157, 0.11372549019607843),\n",
      "                (0.4, 0.4, 0.4)]\n",
      "\n",
      "rcParams['figure.figsize'] = (10, 6)\n",
      "rcParams['figure.dpi'] = 150\n",
      "rcParams['axes.color_cycle'] = dark2_colors\n",
      "rcParams['lines.linewidth'] = 2\n",
      "rcParams['axes.grid'] = True\n",
      "rcParams['axes.facecolor'] = '#eeeeee'\n",
      "rcParams['font.size'] = 14\n",
      "rcParams['patch.edgecolor'] = 'none'"
     ],
     "language": "python",
     "metadata": {},
     "outputs": [],
     "prompt_number": 2
    },
    {
     "cell_type": "code",
     "collapsed": false,
     "input": [
      "url='http://www.imdb.com/movies-in-theaters/?ref_=nv_tp_inth_1'"
     ],
     "language": "python",
     "metadata": {},
     "outputs": [],
     "prompt_number": 2
    },
    {
     "cell_type": "code",
     "collapsed": false,
     "input": [
      "def pulldata(url):\n",
      "    url2=requests.get(url).text\n",
      "    dom=web.Element(url2)\n",
      "    table=dom.by_class('article listo nm')[0]\n",
      "    title=[str(d.by_tag('a')[0].content) for d in table.by_tag('td.overview-top')]\n",
      "    \n",
      "    #tag name then title\n",
      "    print title\n",
      "pulldata(url)"
     ],
     "language": "python",
     "metadata": {},
     "outputs": [
      {
       "output_type": "stream",
       "stream": "stdout",
       "text": [
        "[' 22 Jump Street (2014)', ' How to Train Your Dragon 2 (2014)', ' Hellion (2014)', ' The Rover (2014)', ' The Signal (2014)', ' The Other Woman (2014)']\n"
       ]
      }
     ],
     "prompt_number": 47
    },
    {
     "cell_type": "code",
     "collapsed": false,
     "input": [],
     "language": "python",
     "metadata": {},
     "outputs": [
      {
       "metadata": {},
       "output_type": "pyout",
       "prompt_number": 52,
       "text": [
        "(u'PIQUE JACKET WITH CONTRAST PIPING', u'99.90  USD')"
       ]
      }
     ],
     "prompt_number": 52
    },
    {
     "cell_type": "code",
     "collapsed": false,
     "input": [
      "url='http://www.zara.com/us/en/man/jackets-c586542.html'\n",
      "def pulldata(url):\n",
      "    url2=requests.get(url).text\n",
      "    url3=requests.get('http://www.zara.com/us/en/man/blazers-c392502.html').text\n",
      "    dom=web.Element(url2)\n",
      "    dom3=web.Element(url3)\n",
      "    prices={}\n",
      "    itemname=[d.content for d in dom.by_tag('a.name item')]\n",
      "    price=[float(d.by_tag('span')[0].attributes['data-ecirp'][0:-5]) for d in dom.by_tag('span.price')[0:20]]\n",
      "    price2=[float(d.by_tag('span')[0].attributes['data-ecirp'][0:-5]) for d in dom3.by_tag('span.price')[0:20]]\n",
      "    #tag name then class\n",
      "    prices['Jackets']=price\n",
      "    prices['Blazers']=price2\n",
      "    prices=pd.DataFrame(prices)\n",
      "    return prices\n",
      "info=pulldata(url)\n",
      "print info\n"
     ],
     "language": "python",
     "metadata": {},
     "outputs": [
      {
       "output_type": "stream",
       "stream": "stdout",
       "text": [
        "    Blazers  Jackets\n",
        "0     169.0     79.9\n",
        "1     199.0     99.9\n",
        "2      99.9    149.0\n",
        "3     139.0     59.9\n",
        "4     119.0     79.9\n",
        "5      79.9     59.9\n",
        "6      89.9    149.0\n",
        "7      79.9    119.0\n",
        "8     169.0     79.9\n",
        "9      99.9     99.9\n",
        "10     89.9     79.9\n",
        "11     99.9    149.0\n",
        "12    169.0     99.9\n",
        "13     99.9     99.9\n",
        "14    119.0     79.9\n",
        "15     79.9     99.9\n",
        "16     89.9     99.9\n",
        "17     99.9     89.9\n",
        "18     99.9     39.9\n",
        "19    149.0     79.9\n"
       ]
      }
     ],
     "prompt_number": 101
    },
    {
     "cell_type": "code",
     "collapsed": false,
     "input": [
      "info.plot()\n"
     ],
     "language": "python",
     "metadata": {},
     "outputs": [
      {
       "metadata": {},
       "output_type": "pyout",
       "prompt_number": 120,
       "text": [
        "<matplotlib.axes.AxesSubplot at 0x96e4f60>"
       ]
      }
     ],
     "prompt_number": 120
    },
    {
     "cell_type": "heading",
     "level": 1,
     "metadata": {},
     "source": [
      "info.sort('Blazers')"
     ]
    },
    {
     "cell_type": "markdown",
     "metadata": {},
     "source": [
      "Below's functions parses jcrew site for shirts and then creates a dictionary of names and prices of each of the shirts"
     ]
    },
    {
     "cell_type": "code",
     "collapsed": false,
     "input": [
      "url='https://www.jcrew.com/mens_category/shirts.jsp'\n",
      "\n",
      "def parser(url):\n",
      "    url2=requests.get(url).text\n",
      "    dom=web.Element(url2)\n",
      "    return dom\n",
      "\n",
      "\n",
      "def perentry(dom):\n",
      "    cl=dom.by_class('wrapBG')[0]\n",
      "    tr=cl.by_tag('tr')[0]\n",
      "    tr=tr.by_tag('tr')[0]\n",
      "    tr1=tr.by_class('arrayProdPrice')\n",
      "    tr2=tr.by_class('arrayProdName')\n",
      "    names=[t.by_tag('a')[0].content for t in tr2]\n",
      "    prices=[str(t.content.split( )) for t in tr1]\n",
      "    #if want to parse by each word\n",
      "    #tr2=[t.by_tag('a')[0] for t in tr2]\n",
      "    #names=[str(t.content.split( )) for t in tr2]\n",
      "    jcrewdata={}\n",
      "    jcrewdata['name']=names\n",
      "    jcrewdata['price']=prices\n",
      "    jcrewdata=pd.DataFrame(jcrewdata)\n",
      "    print jcrewdata\n",
      "dom=parser(url)\n",
      "perentry(dom)\n",
      "\n",
      "\n"
     ],
     "language": "python",
     "metadata": {},
     "outputs": [
      {
       "output_type": "stream",
       "stream": "stdout",
       "text": [
        "                                                 name                price\n",
        "0                 Short-sleeve shirt in bengal stripe          [u'$64.50']\n",
        "1              Short-sleeve popover in indigo anchors          [u'$88.00']\n",
        "2                  Short-sleeve shirt in indigo stars          [u'$88.00']\n",
        "3              Short-sleeve shirt in printed chambray          [u'$88.00']\n",
        "4                   Short-sleeve shirt in navy floral          [u'$79.50']\n",
        "5            Short-sleeve shirt in faded floral print          [u'$88.00']\n",
        "6                Short-sleeve shirt in diamond floral          [u'$79.50']\n",
        "7                Short-sleeve shirt in floral paisley          [u'$79.50']\n",
        "8              Short-sleeve popover in sailboat print          [u'$79.50']\n",
        "9            Short-sleeve pieced vintage oxford shirt          [u'$79.50']\n",
        "10  Short-sleeve Indian cotton shirt in canyon red...          [u'$69.50']\n",
        "11            Secret Wash short-sleeve shirt in white          [u'$64.50']\n",
        "12  Short-sleeve popover in rustic blue vintage ox...          [u'$64.50']\n",
        "13       Short-sleeve vintage oxford shirt in gingham          [u'$69.50']\n",
        "14    Short-sleeve vintage oxford shirt in rose plaid          [u'$69.50']\n",
        "15     Short-sleeve Indian cotton shirt in blue plaid          [u'$69.50']\n",
        "16           Short-sleeve shirt in gingham seersucker          [u'$69.50']\n",
        "17  Indian cotton short-sleeve shirt in noble turq...          [u'$69.50']\n",
        "18                      Short-sleeve seersucker shirt          [u'$69.50']\n",
        "19                  Short-sleeve shirt in Irish linen          [u'$75.00']\n",
        "20                          Short-sleeve shirt in dot          [u'$79.50']\n",
        "21  Short-sleeve vintage oxford shirt in horizonta...          [u'$69.50']\n",
        "22  Indian cotton short-sleeve shirt in faded twil...          [u'$69.50']\n",
        "23  Lightweight short-sleeve shirt in overblown gi...          [u'$64.50']\n",
        "24     Short-sleeve shirt in Japanese indigo chambray          [u'$88.00']\n",
        "25    Secret Wash short-sleeve shirt in indigo stripe          [u'$79.50']\n",
        "26          Secret Wash short-sleeve end-on-end shirt  [u'was', u'$64.50']\n",
        "27            Short-sleeve shirt in Japanese chambray          [u'$88.00']\n",
        "28      Cotton twill short-sleeve shirt in leaf print          [u'$88.00']\n",
        "29                    Short-sleeve shirt in dot print          [u'$69.50']\n",
        "30  Thomas Mason&reg; for J.Crew short-sleeve Ludl...         [u'$148.00']\n",
        "31  Thomas Mason&reg; for J.Crew short-sleeve Ludl...         [u'$148.00']\n",
        "32                    Classic seersucker stripe shirt          [u'$75.00']\n",
        "33                    Classic seersucker stripe shirt          [u'$75.00']\n",
        "34  Slim seersucker shirt in authentic red tattersall          [u'$75.00']\n",
        "35       Slim seersucker shirt in estate blue gingham          [u'$75.00']\n",
        "36       Short-sleeve popover in vintage oxford cloth          [u'$64.50']\n",
        "37             Short-sleeve popover in sailboat print          [u'$79.50']\n",
        "38             Short-sleeve popover in indigo anchors          [u'$88.00']\n",
        "39              Short-sleeve popover in Indian cotton          [u'$69.50']\n",
        "40         Short-sleeve popover in indigo-dyed cotton          [u'$79.50']\n",
        "41                 Short-sleeve popover in seersucker          [u'$69.50']\n",
        "42  Short-sleeve popover in rustic blue vintage ox...          [u'$64.50']\n",
        "43            Short-sleeve popover in pieced chambray          [u'$98.00']\n",
        "44  Wallace &amp; Barnes short-sleeve popover in b...         [u'$118.00']\n",
        "45                          Japanese chambray popover          [u'$88.00']\n",
        "46       Brushed twill popover in peacock blue stripe          [u'$75.00']\n",
        "47                             Vintage oxford popover          [u'$69.50']\n",
        "\n",
        "[48 rows x 2 columns]\n"
       ]
      }
     ],
     "prompt_number": 23
    },
    {
     "cell_type": "code",
     "collapsed": false,
     "input": [],
     "language": "python",
     "metadata": {},
     "outputs": []
    }
   ],
   "metadata": {}
  }
 ]
}