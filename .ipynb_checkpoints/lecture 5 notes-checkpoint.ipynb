{
 "metadata": {
  "name": ""
 },
 "nbformat": 3,
 "nbformat_minor": 0,
 "worksheets": [
  {
   "cells": [
    {
     "cell_type": "markdown",
     "metadata": {},
     "source": [
      "Statistical models\n",
      "\n",
      "A stat model means we have a difference between data and parameters\n",
      "    parameters means there is a certain amount of error\n",
      "    previously we just had ave. but the stat model puts  a picture to these expectations..\n",
      "    parametric - finite dimensions(normal and binomal)\n",
      "        use when you think your data meets this model\n",
      "        may be easier to define the data by a speicific amount of parameters\n",
      "    non parametric - infinitely many parameters\n",
      "        many parameters may lead into overfitting data\n",
      "    No model will be perfect\n",
      "    expotential distribution/Length Biasing paradox\n",
      "        memoryless\n",
      "        waiting for bus. If avg wait time is ~10min, then from the moment you get to the bus stop it will be 10 minutes regardless of the time from the last moment the bus came. The reasoning for this is because an bus rider has a low chance of getting to the stop when the stop times are 2 mins apart.\n",
      "    length biasing paradox pt 2\n",
      "        prison sentencing. You avg a persons prison sentence by asking a bunch of inmates. But because you will most likely miss the individuals that are there for a day. You miss the chance of getting their sentence\n",
      "    Weibull Distribution\n",
      "        used for biostatistics\n",
      "        like expotential but infinite parameters\n",
      "        hazard function(prob of death given you survived over a certain time)\n",
      "    Evil Cauchy Distribution\n",
      "        ratio of independent standard random variables\n",
      "        used in Finance\n",
      "        Heavier tails than normal distribution\n",
      "    Binomial\n",
      "        n amount of coin flips\n",
      "        assume that each voter they independent\n",
      "        P - prob vote for candidate a\n",
      "        mean is np\n",
      "        Central limit theorem\n",
      "            you add up a bunch of independent random variables it'll look like a normal distribution if their of the same distrib\n",
      "    normal approximation to binomial\n",
      "        binomial if n large enough looks like normal distribution, if p is close to 0 or 1\n",
      "    ALL MODELS ARE WRONG SOME MODELS ARE USEFUL\n",
      "    YOU MUST MODEL\n",
      "        always figure out what are your parameters\n",
      "        \n",
      "BOOT STRAP\n",
      "    statistical breakthrough, parametric vs noparametric\n",
      "    non parametric\n",
      "        Problem:\n",
      "            dataset, dont know where it came from(model).\n",
      "            try to find estimand, so want to find CI. \n",
      "            Only one dataset. Can't get more data\n",
      "        Method:\n",
      "            Generate new dataset with replacement. So use same numbers but rechoose new dataset with replacement\n",
      "            Compute estimator for each replication.\n",
      "            Look at histogram\n",
      "            compute CI and standard intervals\n",
      "        Usefulness:\n",
      "            use empiricial distribution to approximate true distribution\n",
      "            \n",
      "    \n",
      "        \n",
      "    \n",
      "       \n",
      "        \n",
      "   \n",
      "    "
     ]
    }
   ],
   "metadata": {}
  }
 ]
}