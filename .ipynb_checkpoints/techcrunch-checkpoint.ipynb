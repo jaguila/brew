{
 "metadata": {
  "name": ""
 },
 "nbformat": 3,
 "nbformat_minor": 0,
 "worksheets": [
  {
   "cells": [
    {
     "cell_type": "markdown",
     "metadata": {},
     "source": [
      "Is there a correlation between techcrunch bad news and stock price?\n",
      "\n",
      "take average time for a regular site user to see a post, then use that time interval from time that post is up to see if the stock price changed within that time. Can use this on multiple sites"
     ]
    },
    {
     "cell_type": "raw",
     "metadata": {},
     "source": [
      "Data mine for info on startups on techcrunch"
     ]
    },
    {
     "cell_type": "code",
     "collapsed": false,
     "input": [
      "import pandas as pd\n",
      "import requests\n",
      "from pattern import web\n",
      "import matplotlib.pyplot as plt\n",
      "import numpy as np\n",
      "from fnmatch import fnmatch\n",
      "\n",
      "url=\"http://www.techcrunch.com/startups\""
     ],
     "language": "python",
     "metadata": {},
     "outputs": [],
     "prompt_number": 3
    },
    {
     "cell_type": "code",
     "collapsed": false,
     "input": [
      "def parse(url):\n",
      "    url2=requests.get(url).text\n",
      "    dom=web.Element(url2)\n",
      "    #tags=dom.by_class('tags')\n",
      "    tags=dom.by_class('block block-thumb')\n",
      "    #takes tags titles with name of startup note\n",
      "    #if dont add [0] then will produce list of lists\n",
      "    tags2=[t.by_class('post-title')[0] for t in tags if t.by_tag('a')[0].attributes['title'] == 'Startups' ]\n",
      "    title=[t.by_tag('a')[0].content for t in tags2]\n",
      "    #split splits by whatevers in brackets\n",
      "    parsetitle=[t.split( ) for t in title]\n",
      "    #parsetitle contains a list for every title that is tagged as a startup in techcrunch\n",
      "    print parsetitle\n",
      "parse(url)"
     ],
     "language": "python",
     "metadata": {},
     "outputs": [
      {
       "output_type": "stream",
       "stream": "stdout",
       "text": [
        "[u'Everyone Seems Mad At ReservationHop, Founder Admits He Was &#8220;Taken Aback&#8221; By The&nbsp;Criticism', u'Streamfully Turns Web Links Into Personalized Content&nbsp;Previews']\n",
        "[[u'Everyone', u'Seems', u'Mad', u'At', u'ReservationHop,', u'Founder', u'Admits', u'He', u'Was', u'&#8220;Taken', u'Aback&#8221;', u'By', u'The&nbsp;Criticism'], [u'Streamfully', u'Turns', u'Web', u'Links', u'Into', u'Personalized', u'Content&nbsp;Previews']]\n"
       ]
      }
     ],
     "prompt_number": 54
    },
    {
     "cell_type": "code",
     "collapsed": false,
     "input": [],
     "language": "python",
     "metadata": {},
     "outputs": []
    }
   ],
   "metadata": {}
  }
 ]
}