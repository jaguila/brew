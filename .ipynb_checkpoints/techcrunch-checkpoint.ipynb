{
 "metadata": {
  "name": "",
  "signature": "sha256:bfd921098a57c7c4086165b5f2720f24cf36a1dd18475e31c5d543aa18516e36"
 },
 "nbformat": 3,
 "nbformat_minor": 0,
 "worksheets": [
  {
   "cells": [
    {
     "cell_type": "markdown",
     "metadata": {},
     "source": [
      "Is there a correlation between techcrunch bad news and stock price?\n",
      "\n",
      "take average time for a regular site user to see a post, then use that time interval from time that post is up to see if the stock price changed within that time. Can use this on multiple sites"
     ]
    },
    {
     "cell_type": "raw",
     "metadata": {},
     "source": [
      "Data mine for info on startups on techcrunch"
     ]
    },
    {
     "cell_type": "code",
     "collapsed": false,
     "input": [
      "import pandas as pd\n",
      "import requests\n",
      "from pattern import web\n",
      "import matplotlib.pyplot as plt\n",
      "import numpy as np\n",
      "from fnmatch import fnmatch\n",
      "\n",
      "url=\"http://www.techcrunch.com/startups\""
     ],
     "language": "python",
     "metadata": {},
     "outputs": [],
     "prompt_number": 1
    },
    {
     "cell_type": "code",
     "collapsed": false,
     "input": [
      "#parses techcrunch startups and then creates a list of lists for every word in the title\n",
      "\n",
      "def parse(url):\n",
      "    url2=requests.get(url).text\n",
      "    dom=web.Element(url2)\n",
      "    #tags=dom.by_class('tags')\n",
      "    tags=dom.by_class('block block-thumb')\n",
      "    #takes tags titles with name of startup note\n",
      "    #if dont add [0] then will produce list of lists\n",
      "    tags2=[t.by_class('post-title')[0] for t in tags if t.by_tag('a')[0].attributes['title'] == 'Startups' ]\n",
      "    title=[t.by_tag('a')[0].content for t in tags2]\n",
      "    #split splits by whatevers in brackets\n",
      "    parsetitle=[t.split( ) for t in title]\n",
      "    #parsetitle contains a list for every title that is tagged as a startup in techcrunch\n",
      "    return parsetitle\n",
      "keywords=parse(url)"
     ],
     "language": "python",
     "metadata": {},
     "outputs": [],
     "prompt_number": 3
    },
    {
     "cell_type": "code",
     "collapsed": false,
     "input": [],
     "language": "python",
     "metadata": {},
     "outputs": []
    }
   ],
   "metadata": {}
  }
 ]
}