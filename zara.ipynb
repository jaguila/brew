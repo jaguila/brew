{
 "metadata": {
  "name": ""
 },
 "nbformat": 3,
 "nbformat_minor": 0,
 "worksheets": [
  {
   "cells": [
    {
     "cell_type": "code",
     "collapsed": false,
     "input": [
      "from pattern import web\n",
      "import requests\n",
      "from fnmatch import fnmatch\n",
      "import matplotlib.pyplot as plt\n",
      "import pandas as pd\n",
      "import numpy as np\n",
      "from matplotlib import rcParams\n",
      "\n",
      "#these colors come from colorbrewer2.org. Each is an RGB triplet\n",
      "dark2_colors = [(0.10588235294117647, 0.6196078431372549, 0.4666666666666667),\n",
      "                (0.8509803921568627, 0.37254901960784315, 0.00784313725490196),\n",
      "                (0.4588235294117647, 0.4392156862745098, 0.7019607843137254),\n",
      "                (0.9058823529411765, 0.1607843137254902, 0.5411764705882353),\n",
      "                (0.4, 0.6509803921568628, 0.11764705882352941),\n",
      "                (0.9019607843137255, 0.6705882352941176, 0.00784313725490196),\n",
      "                (0.6509803921568628, 0.4627450980392157, 0.11372549019607843),\n",
      "                (0.4, 0.4, 0.4)]\n",
      "\n",
      "rcParams['figure.figsize'] = (10, 6)\n",
      "rcParams['figure.dpi'] = 150\n",
      "rcParams['axes.color_cycle'] = dark2_colors\n",
      "rcParams['lines.linewidth'] = 2\n",
      "rcParams['axes.grid'] = True\n",
      "rcParams['axes.facecolor'] = '#eeeeee'\n",
      "rcParams['font.size'] = 14\n",
      "rcParams['patch.edgecolor'] = 'none'"
     ],
     "language": "python",
     "metadata": {},
     "outputs": [],
     "prompt_number": 2
    },
    {
     "cell_type": "code",
     "collapsed": false,
     "input": [
      "url='http://www.imdb.com/movies-in-theaters/?ref_=nv_tp_inth_1'"
     ],
     "language": "python",
     "metadata": {},
     "outputs": [],
     "prompt_number": 2
    },
    {
     "cell_type": "code",
     "collapsed": false,
     "input": [
      "def pulldata(url):\n",
      "    url2=requests.get(url).text\n",
      "    dom=web.Element(url2)\n",
      "    table=dom.by_class('article listo nm')[0]\n",
      "    title=[str(d.by_tag('a')[0].content) for d in table.by_tag('td.overview-top')]\n",
      "    \n",
      "    #tag name then title\n",
      "    print title\n",
      "pulldata(url)"
     ],
     "language": "python",
     "metadata": {},
     "outputs": [
      {
       "output_type": "stream",
       "stream": "stdout",
       "text": [
        "[' 22 Jump Street (2014)', ' How to Train Your Dragon 2 (2014)', ' Hellion (2014)', ' The Rover (2014)', ' The Signal (2014)', ' The Other Woman (2014)']\n"
       ]
      }
     ],
     "prompt_number": 47
    },
    {
     "cell_type": "code",
     "collapsed": false,
     "input": [],
     "language": "python",
     "metadata": {},
     "outputs": [
      {
       "metadata": {},
       "output_type": "pyout",
       "prompt_number": 52,
       "text": [
        "(u'PIQUE JACKET WITH CONTRAST PIPING', u'99.90  USD')"
       ]
      }
     ],
     "prompt_number": 52
    },
    {
     "cell_type": "code",
     "collapsed": false,
     "input": [
      "url='http://www.zara.com/us/en/man/jackets-c586542.html'\n",
      "def pulldata(url):\n",
      "    url2=requests.get(url).text\n",
      "    url3=requests.get('http://www.zara.com/us/en/man/blazers-c392502.html').text\n",
      "    dom=web.Element(url2)\n",
      "    dom3=web.Element(url3)\n",
      "    prices={}\n",
      "    itemname=[d.content for d in dom.by_tag('a.name item')]\n",
      "    price=[float(d.by_tag('span')[0].attributes['data-ecirp'][0:-5]) for d in dom.by_tag('span.price')[0:20]]\n",
      "    price2=[float(d.by_tag('span')[0].attributes['data-ecirp'][0:-5]) for d in dom3.by_tag('span.price')[0:20]]\n",
      "    #tag name then class\n",
      "    prices['Jackets']=price\n",
      "    prices['Blazers']=price2\n",
      "    prices=pd.DataFrame(prices)\n",
      "    return prices\n",
      "info=pulldata(url)\n",
      "print info\n"
     ],
     "language": "python",
     "metadata": {},
     "outputs": [
      {
       "output_type": "stream",
       "stream": "stdout",
       "text": [
        "    Blazers  Jackets\n",
        "0     169.0     79.9\n",
        "1     199.0     99.9\n",
        "2      99.9    149.0\n",
        "3     139.0     59.9\n",
        "4     119.0     79.9\n",
        "5      79.9     59.9\n",
        "6      89.9    149.0\n",
        "7      79.9    119.0\n",
        "8     169.0     79.9\n",
        "9      99.9     99.9\n",
        "10     89.9     79.9\n",
        "11     99.9    149.0\n",
        "12    169.0     99.9\n",
        "13     99.9     99.9\n",
        "14    119.0     79.9\n",
        "15     79.9     99.9\n",
        "16     89.9     99.9\n",
        "17     99.9     89.9\n",
        "18     99.9     39.9\n",
        "19    149.0     79.9\n"
       ]
      }
     ],
     "prompt_number": 101
    },
    {
     "cell_type": "code",
     "collapsed": false,
     "input": [
      "info.plot()\n"
     ],
     "language": "python",
     "metadata": {},
     "outputs": [
      {
       "metadata": {},
       "output_type": "pyout",
       "prompt_number": 120,
       "text": [
        "<matplotlib.axes.AxesSubplot at 0x96e4f60>"
       ]
      }
     ],
     "prompt_number": 120
    },
    {
     "cell_type": "code",
     "collapsed": false,
     "input": [
      "info.sort('Blazers')"
     ],
     "language": "python",
     "metadata": {},
     "outputs": [
      {
       "html": [
        "<div style=\"max-height:1000px;max-width:1500px;overflow:auto;\">\n",
        "<table border=\"1\" class=\"dataframe\">\n",
        "  <thead>\n",
        "    <tr style=\"text-align: right;\">\n",
        "      <th></th>\n",
        "      <th>Blazers</th>\n",
        "      <th>Jackets</th>\n",
        "    </tr>\n",
        "  </thead>\n",
        "  <tbody>\n",
        "    <tr>\n",
        "      <th>5 </th>\n",
        "      <td>  79.9</td>\n",
        "      <td>  59.9</td>\n",
        "    </tr>\n",
        "    <tr>\n",
        "      <th>7 </th>\n",
        "      <td>  79.9</td>\n",
        "      <td> 119.0</td>\n",
        "    </tr>\n",
        "    <tr>\n",
        "      <th>15</th>\n",
        "      <td>  79.9</td>\n",
        "      <td>  99.9</td>\n",
        "    </tr>\n",
        "    <tr>\n",
        "      <th>6 </th>\n",
        "      <td>  89.9</td>\n",
        "      <td> 149.0</td>\n",
        "    </tr>\n",
        "    <tr>\n",
        "      <th>16</th>\n",
        "      <td>  89.9</td>\n",
        "      <td>  99.9</td>\n",
        "    </tr>\n",
        "    <tr>\n",
        "      <th>10</th>\n",
        "      <td>  89.9</td>\n",
        "      <td>  79.9</td>\n",
        "    </tr>\n",
        "    <tr>\n",
        "      <th>9 </th>\n",
        "      <td>  99.9</td>\n",
        "      <td>  99.9</td>\n",
        "    </tr>\n",
        "    <tr>\n",
        "      <th>17</th>\n",
        "      <td>  99.9</td>\n",
        "      <td>  89.9</td>\n",
        "    </tr>\n",
        "    <tr>\n",
        "      <th>2 </th>\n",
        "      <td>  99.9</td>\n",
        "      <td> 149.0</td>\n",
        "    </tr>\n",
        "    <tr>\n",
        "      <th>18</th>\n",
        "      <td>  99.9</td>\n",
        "      <td>  39.9</td>\n",
        "    </tr>\n",
        "    <tr>\n",
        "      <th>11</th>\n",
        "      <td>  99.9</td>\n",
        "      <td> 149.0</td>\n",
        "    </tr>\n",
        "    <tr>\n",
        "      <th>13</th>\n",
        "      <td>  99.9</td>\n",
        "      <td>  99.9</td>\n",
        "    </tr>\n",
        "    <tr>\n",
        "      <th>4 </th>\n",
        "      <td> 119.0</td>\n",
        "      <td>  79.9</td>\n",
        "    </tr>\n",
        "    <tr>\n",
        "      <th>14</th>\n",
        "      <td> 119.0</td>\n",
        "      <td>  79.9</td>\n",
        "    </tr>\n",
        "    <tr>\n",
        "      <th>3 </th>\n",
        "      <td> 139.0</td>\n",
        "      <td>  59.9</td>\n",
        "    </tr>\n",
        "    <tr>\n",
        "      <th>19</th>\n",
        "      <td> 149.0</td>\n",
        "      <td>  79.9</td>\n",
        "    </tr>\n",
        "    <tr>\n",
        "      <th>8 </th>\n",
        "      <td> 169.0</td>\n",
        "      <td>  79.9</td>\n",
        "    </tr>\n",
        "    <tr>\n",
        "      <th>12</th>\n",
        "      <td> 169.0</td>\n",
        "      <td>  99.9</td>\n",
        "    </tr>\n",
        "    <tr>\n",
        "      <th>0 </th>\n",
        "      <td> 169.0</td>\n",
        "      <td>  79.9</td>\n",
        "    </tr>\n",
        "    <tr>\n",
        "      <th>1 </th>\n",
        "      <td> 199.0</td>\n",
        "      <td>  99.9</td>\n",
        "    </tr>\n",
        "  </tbody>\n",
        "</table>\n",
        "</div>"
       ],
       "metadata": {},
       "output_type": "pyout",
       "prompt_number": 108,
       "text": [
        "    Blazers  Jackets\n",
        "5      79.9     59.9\n",
        "7      79.9    119.0\n",
        "15     79.9     99.9\n",
        "6      89.9    149.0\n",
        "16     89.9     99.9\n",
        "10     89.9     79.9\n",
        "9      99.9     99.9\n",
        "17     99.9     89.9\n",
        "2      99.9    149.0\n",
        "18     99.9     39.9\n",
        "11     99.9    149.0\n",
        "13     99.9     99.9\n",
        "4     119.0     79.9\n",
        "14    119.0     79.9\n",
        "3     139.0     59.9\n",
        "19    149.0     79.9\n",
        "8     169.0     79.9\n",
        "12    169.0     99.9\n",
        "0     169.0     79.9\n",
        "1     199.0     99.9"
       ]
      }
     ],
     "prompt_number": 108
    },
    {
     "cell_type": "code",
     "collapsed": false,
     "input": [
      "url='https://www.jcrew.com/mens_category/shirts.jsp'\n",
      "\n",
      "def parser(url):\n",
      "    url2=requests.get(url).text\n",
      "    dom=web.Element(url2)\n",
      "    return dom\n",
      "\n",
      "\n",
      "def perentry(dom):\n",
      "    cl=dom.by_class('wrapBG')[0]\n",
      "    tr=cl.by_tag('tr')[0]\n",
      "    tr=tr.by_tag('tr')[0]\n",
      "    tr=tr.by_class('arrayProdPrice')\n",
      "    prices=[str(t.content.split( )) for t in tr]\n",
      "    prices1=str(prices[1])\n",
      "    print prices1\n",
      "dom=parser(url)\n",
      "perentry(dom)\n"
     ],
     "language": "python",
     "metadata": {},
     "outputs": [
      {
       "output_type": "stream",
       "stream": "stdout",
       "text": [
        "[u'$88.00']\n"
       ]
      }
     ],
     "prompt_number": 22
    },
    {
     "cell_type": "code",
     "collapsed": false,
     "input": [],
     "language": "python",
     "metadata": {},
     "outputs": []
    }
   ],
   "metadata": {}
  }
 ]
}